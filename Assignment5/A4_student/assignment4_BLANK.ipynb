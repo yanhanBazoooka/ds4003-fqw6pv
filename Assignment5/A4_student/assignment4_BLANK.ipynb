{
 "cells": [
  {
   "cell_type": "markdown",
   "metadata": {},
   "source": [
    "### Assignment #4: Basic UI\n",
    "\n",
    "DS4003 | Spring 2024\n",
    "\n",
    "Objective: Practice buidling basic UI components in Dash. \n",
    "\n",
    "Task: Build an app that contains the following components user the gapminder dataset: `gdp_pcap.csv`. [Info](https://www.gapminder.org/gdp-per-capita/)\n",
    "\n",
    "UI Components:\n",
    "A dropdown menu that allows the user to select `country`\n",
    "-   The dropdown should allow the user to select multiple countries\n",
    "-   The options should populate from the dataset (not be hard-coded)\n",
    "A slider that allows the user to select `year`\n",
    "-   The slider should allow the user to select a range of years\n",
    "-   The range should be from the minimum year in the dataset to the maximum year in the dataset\n",
    "A graph that displays the `gdpPercap` for the selected countries over the selected years\n",
    "-   The graph should display the gdpPercap for each country as a line\n",
    "-   Each country should have a unique color\n",
    "-   Graph DOES NOT need to interact with dropdown or slider\n",
    "-   The graph should have a title and axis labels in reader friendly format  \n",
    "\n",
    "Layout:  \n",
    "- Use a stylesheet\n",
    "- There should be a title at the top of the page\n",
    "- There should be a description of the data and app below the title (3-5 sentences)\n",
    "- The dropdown and slider should be side by side above the graph and take up the full width of the page\n",
    "- The graph should be below the dropdown and slider and take up the full width of the page\n",
    "\n",
    "Submission: \n",
    "- There should be only one app in your submitted work\n",
    "- Comment your code\n",
    "- Submit the html file of the notebook save as `DS4003_A4_LastName.html`\n",
    "\n",
    "\n",
    "**For help you may use the web resources and pandas documentation. No co-pilot or ChatGPT.**"
   ]
  },
  {
   "cell_type": "markdown",
   "metadata": {},
   "source": [
    "### Initialize the Dash app and import necessary libraries:"
   ]
  },
  {
   "cell_type": "code",
   "execution_count": 1,
   "metadata": {},
   "outputs": [],
   "source": [
    "import dash\n",
    "from dash import dcc, html\n",
    "from dash.dependencies import Input, Output\n",
    "import plotly.graph_objs as go\n",
    "import pandas as pd\n",
    "\n",
    "# Load the dataset\n",
    "file_path = 'gdp_pcap.csv'\n",
    "gdp_data = pd.read_csv(file_path)\n",
    "\n",
    "# Extract unique countries for dropdown options\n",
    "countries = gdp_data['country'].unique()\n",
    "\n",
    "# Determine the range of years for the slider\n",
    "years = gdp_data.columns[1:]  # Exclude the 'country' column\n",
    "\n",
    "# Initialize the Dash app\n",
    "app = dash.Dash(__name__)\n",
    "\n"
   ]
  },
  {
   "cell_type": "markdown",
   "metadata": {},
   "source": [
    "### Layout of the app"
   ]
  },
  {
   "cell_type": "code",
   "execution_count": 2,
   "metadata": {},
   "outputs": [],
   "source": [
    "# Define the layout of the application\n",
    "app.layout = html.Div([\n",
    "    # Title of the application\n",
    "    html.H1(\"GDP Per Capita Analysis\"),\n",
    "    \n",
    "    # A brief description of what the application does\n",
    "    html.P(\"This interactive application allows users to explore GDP per capita across different countries and time periods. Select multiple countries and a range of years to visualize how GDP per capita has evolved.\"),\n",
    "    \n",
    "    # Container for the controls (dropdown and slider)\n",
    "    html.Div([\n",
    "        # Dropdown menu for selecting countries. Allows multiple selections.\n",
    "        html.Div([\n",
    "            dcc.Dropdown(\n",
    "                id='country-selector',\n",
    "                options=[{'label': country, 'value': country} for country in countries],\n",
    "                value=['USA'],  # Sets the default selection\n",
    "                multi=True  # Allows selecting multiple countries\n",
    "            )\n",
    "        ], style={'width': '50%', 'display': 'inline-block'}),  # Set width to half of the container\n",
    "        \n",
    "        # Slider for selecting a range of years\n",
    "        html.Div([\n",
    "            dcc.RangeSlider(\n",
    "                id='year-slider',\n",
    "                min=int(years[0]),  # Set the minimum value to the first year in the dataset\n",
    "                max=int(years[-1]),  # Set the maximum value to the last year in the dataset\n",
    "                value=[2000, 2010],  # Default selected range\n",
    "                marks={str(year): str(year) for year in range(int(years[0]), int(years[-1])+1, 50)},  # Markers for readability\n",
    "                step=1  # Slider moves in increments of 1 year\n",
    "            )\n",
    "        ], style={'width': '50%', 'display': 'inline-block'}),  # Set width to half of the container\n",
    "        \n",
    "    ], style={'display': 'flex'}),  # Use flexbox to layout children side by side\n",
    "    \n",
    "    # Graph object where the GDP per capita plot will be displayed\n",
    "    dcc.Graph(id='gdp-graph'),\n",
    "], style={'width': '80%', 'margin': '0 auto'})  # Style to center and set the width of the application layout\n",
    "\n",
    "# Function to convert GDP per capita values from strings to floats\n",
    "def gdp_to_float(gdp_str):\n",
    "    # First, check if the value is a string. If it's not, it means it's already a number.\n",
    "    if isinstance(gdp_str, str):\n",
    "        # If 'k' is in the string, remove it and multiply the value by 1,000\n",
    "        if 'k' in gdp_str:\n",
    "            return float(gdp_str.replace('k', '')) * 1000\n",
    "        # Otherwise, just convert the string to a float\n",
    "        return float(gdp_str)\n",
    "    # If the value is already a number (int or float), just return it\n",
    "    return gdp_str\n",
    "\n",
    "\n",
    "# Callback function to update the graph based on user input\n",
    "@app.callback(\n",
    "    Output('gdp-graph', 'figure'),  # The component to be updated is the graph's figure\n",
    "    [Input('country-selector', 'value'),  # Input from the country selector dropdown\n",
    "     Input('year-slider', 'value')]  # Input from the year range slider\n",
    ")\n",
    "def update_graph(selected_countries, selected_years):\n",
    "    traces = []  # List to hold the data traces for plotting\n",
    "    for country in selected_countries:  # Iterate through the selected countries\n",
    "        df = gdp_data[gdp_data['country'] == country]  # Filter the dataset for the selected country\n",
    "        df_selected_years = df.loc[:, str(selected_years[0]):str(selected_years[1])]  # Filter the dataset for the selected years\n",
    "        \n",
    "        # Convert GDP per capita values to floats for proper sorting and plotting\n",
    "        y_values = [gdp_to_float(value) for value in df_selected_years.values.flatten()]\n",
    "        \n",
    "        trace = go.Scatter(  # Create a scatter plot trace for the country\n",
    "            x=df_selected_years.columns,  # X-axis is the years\n",
    "            y=y_values,  # Y-axis is the converted GDP per capita values\n",
    "            mode='lines',  # Plot as lines\n",
    "            name=country  # Legend name\n",
    "        )\n",
    "        traces.append(trace)  # Add the trace to the list of traces\n",
    "    \n",
    "    # Return the figure object with the data and layout\n",
    "    return {\n",
    "        'data': traces,  # Data traces for plotting\n",
    "        'layout': go.Layout(  # Layout configuration\n",
    "            title='GDP Per Capita Over Time',  # Graph title\n",
    "            xaxis={'title': 'Year'},  # X-axis label\n",
    "            yaxis={'title': 'GDP Per Capita ($)'},  # Y-axis label\n",
    "            hovermode='closest'  # Hover mode configuration for better tooltip display\n",
    "        )\n",
    "    }"
   ]
  },
  {
   "cell_type": "markdown",
   "metadata": {},
   "source": [
    "### Running the app"
   ]
  },
  {
   "cell_type": "code",
   "execution_count": 3,
   "metadata": {},
   "outputs": [
    {
     "data": {
      "text/html": [
       "\n",
       "        <iframe\n",
       "            width=\"100%\"\n",
       "            height=\"650\"\n",
       "            src=\"http://127.0.0.1:8050/\"\n",
       "            frameborder=\"0\"\n",
       "            allowfullscreen\n",
       "            \n",
       "        ></iframe>\n",
       "        "
      ],
      "text/plain": [
       "<IPython.lib.display.IFrame at 0x105b7fc40>"
      ]
     },
     "metadata": {},
     "output_type": "display_data"
    }
   ],
   "source": [
    "if __name__ == '__main__':\n",
    "    app.run_server(debug=True)"
   ]
  }
 ],
 "metadata": {
  "kernelspec": {
   "display_name": "ds4003",
   "language": "python",
   "name": "python3"
  },
  "language_info": {
   "codemirror_mode": {
    "name": "ipython",
    "version": 3
   },
   "file_extension": ".py",
   "mimetype": "text/x-python",
   "name": "python",
   "nbconvert_exporter": "python",
   "pygments_lexer": "ipython3",
   "version": "3.8.18"
  }
 },
 "nbformat": 4,
 "nbformat_minor": 2
}
